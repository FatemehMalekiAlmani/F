{
  "nbformat": 4,
  "nbformat_minor": 0,
  "metadata": {
    "colab": {
      "provenance": [],
      "authorship_tag": "ABX9TyOclkcYT+RC4RHuqZf3EJux"
    },
    "kernelspec": {
      "name": "python3",
      "display_name": "Python 3"
    },
    "language_info": {
      "name": "python"
    }
  },
  "cells": [
    {
      "cell_type": "code",
      "execution_count": 2,
      "metadata": {
        "colab": {
          "base_uri": "https://localhost:8080/"
        },
        "id": "MbFU0tVhiEXY",
        "outputId": "cc1acad2-0af8-42cc-f442-2c3a7207011c"
      },
      "outputs": [
        {
          "output_type": "stream",
          "name": "stdout",
          "text": [
            "Requirement already satisfied: pyswarm in /usr/local/lib/python3.10/dist-packages (0.6)\n",
            "Requirement already satisfied: numpy in /usr/local/lib/python3.10/dist-packages (from pyswarm) (1.23.5)\n",
            "Stopping search: Swarm best objective change less than 1e-08\n",
            "x= 3.0\n",
            "y= 4.49999998492522\n"
          ]
        }
      ],
      "source": [
        "!pip install pyswarm\n",
        "import numpy as np\n",
        "from pyswarm import pso\n",
        "\n",
        "def model_obj(x) :\n",
        "    pen=0\n",
        "    x[0]= np.round( x[0],0 ) #x is integer\n",
        "    if not x[0]<=4 : pen= np.inf\n",
        "    if not 2*x[1]<= 12 : pen= np.inf\n",
        "    if not 3*x[0] + 2*x[1] <=18 : pen= np.inf\n",
        "    if not x[0]<=4 : pen= np.inf\n",
        "    return -(3* x[0]+ 5* x[1]* x[0])+ pen\n",
        "\n",
        "def co(x):\n",
        "    return[]\n",
        "\n",
        "\n",
        "\n",
        "#bounds for x and y\n",
        "lb=[0,0]\n",
        "ub=[10,10]\n",
        "#innitial point which is important if our choice be good algorithm will converge to the answere asap\n",
        "x0=[0,0]\n",
        "\n",
        "# defining 2 variable for giving the answer and objective function\n",
        "#model_obj and co are function\n",
        "xopt, fopt= pso(model_obj , lb, ub, x0, co)\n",
        "\n",
        "print('x=' , xopt[0])\n",
        "print('y=' , xopt[1])"
      ]
    }
  ]
}