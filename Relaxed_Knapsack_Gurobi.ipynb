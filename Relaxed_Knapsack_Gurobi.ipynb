{
  "nbformat": 4,
  "nbformat_minor": 0,
  "metadata": {
    "colab": {
      "provenance": [],
      "authorship_tag": "ABX9TyN7hqXV7wN2n/NEL/DLQ9mv"
    },
    "kernelspec": {
      "name": "python3",
      "display_name": "Python 3"
    },
    "language_info": {
      "name": "python"
    }
  },
  "cells": [
    {
      "cell_type": "code",
      "execution_count": 4,
      "metadata": {
        "colab": {
          "base_uri": "https://localhost:8080/"
        },
        "id": "iUWLFEztcPGw",
        "outputId": "0a1059e7-7a64-4973-a95d-ef6324edf033"
      },
      "outputs": [
        {
          "output_type": "stream",
          "name": "stdout",
          "text": [
            "Requirement already satisfied: pyomo in /usr/local/lib/python3.10/dist-packages (6.6.2)\n",
            "Requirement already satisfied: ply in /usr/local/lib/python3.10/dist-packages (from pyomo) (3.11)\n",
            "Requirement already satisfied: gurobipy in /usr/local/lib/python3.10/dist-packages (10.0.3)\n",
            "Model unknown\n",
            "\n",
            "  Variables:\n",
            "    x : Size=6, Index=x_index\n",
            "        Key       : Lower : Value : Upper : Fixed : Stale : Domain\n",
            "          compass :     0 :   0.0 :     1 : False : False :  Reals\n",
            "        first aid :     0 :   0.2 :     1 : False : False :  Reals\n",
            "             food :     0 :   1.0 :     1 : False : False :  Reals\n",
            "              gps :     0 :   0.0 :     1 : False : False :  Reals\n",
            "             rope :     0 :   0.0 :     1 : False : False :  Reals\n",
            "            water :     0 :   1.0 :     1 : False : False :  Reals\n",
            "\n",
            "  Objectives:\n",
            "    obj : Size=1, Index=None, Active=True\n",
            "        Key  : Active : Value\n",
            "        None :   True :  18.4\n",
            "\n",
            "  Constraints:\n",
            "    c : Size=1\n",
            "        Key  : Lower : Body : Upper\n",
            "        None :  None : 12.0 :  12.0\n"
          ]
        }
      ],
      "source": [
        "!pip install pyomo\n",
        "!pip install gurobipy\n",
        "#~~~~~~~~~~~~~~~~~~~~~~~~~~~MODEL~~~~~~~~~~~~~~~~~~~~~~~~~~~~~~\n",
        "# Gurobi solver for Relaxed Knapsack model\n",
        "# max Sum_{i=1}^n (v_i *x_i)\n",
        "#     s.t.Sum_{i=1}^n (w_i *x_i) <= w\n",
        "#         x in {0,1}\n",
        "#~~~~~~~~~~~~~~~~~~~~~~~~~~~~~~~~~~~~~~~~~~~~~~~~~~~~~~~~~~~~\n",
        "import pyomo.environ as pyo\n",
        "from pyomo.environ import *\n",
        "import gurobipy as gb\n",
        "from pyomo.opt import SolverFactory\n",
        "#__________________________input________________________________\n",
        "model= pyo.ConcreteModel()\n",
        "items= ['food', 'rope', 'water', 'first aid', 'compass', 'gps']\n",
        "v={'food':7, 'rope':1, 'water':10, 'first aid':7, 'compass':.5, 'gps':3 }\n",
        "w= {'food':4, 'rope':2, 'water':7, 'first aid':5, 'compass':.5, 'gps':3 }\n",
        "#v=[7, 1, 10, 7, .5, 3]\n",
        "#w=[4, 2, 3, 5, .5, 1]\n",
        "max_w=12\n",
        "#num_i=len(v)\n",
        "#model.IDX= pyo.RangeSet(num_i)\n",
        "model.x=pyo.Var(items, bounds=(0,1))\n",
        "x=model.x\n",
        "#_________________objectivefunction___________________________\n",
        "\n",
        "model.obj=pyo.Objective(expr=sum(v[i]* x[i] for i in items), sense= pyo.maximize)\n",
        "model.c= pyo.Constraint(expr= sum(w[i]* x[i] for i in items) <= max_w )\n",
        "#_____________________defining Solver== Gurobi________________________\n",
        "\n",
        "solver=SolverFactory('gurobi')\n",
        "solver.solve(model)\n",
        "#________________output display_____________________\n",
        "pyo.display(model)"
      ]
    }
  ]
}