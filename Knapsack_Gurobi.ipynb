{
  "nbformat": 4,
  "nbformat_minor": 0,
  "metadata": {
    "colab": {
      "provenance": [],
      "authorship_tag": "ABX9TyP0eBZSOtX86AsRF8NhHVtn"
    },
    "kernelspec": {
      "name": "python3",
      "display_name": "Python 3"
    },
    "language_info": {
      "name": "python"
    }
  },
  "cells": [
    {
      "cell_type": "code",
      "execution_count": 1,
      "metadata": {
        "colab": {
          "base_uri": "https://localhost:8080/"
        },
        "id": "4OwDtaijYl29",
        "outputId": "3b1ad96d-40b0-44f4-cf68-e62a747096b0"
      },
      "outputs": [
        {
          "output_type": "stream",
          "name": "stdout",
          "text": [
            "Collecting pyomo\n",
            "  Downloading Pyomo-6.6.2-cp310-cp310-manylinux_2_17_x86_64.manylinux2014_x86_64.whl (12.7 MB)\n",
            "\u001b[2K     \u001b[90m━━━━━━━━━━━━━━━━━━━━━━━━━━━━━━━━━━━━━━━━\u001b[0m \u001b[32m12.7/12.7 MB\u001b[0m \u001b[31m24.0 MB/s\u001b[0m eta \u001b[36m0:00:00\u001b[0m\n",
            "\u001b[?25hCollecting ply (from pyomo)\n",
            "  Downloading ply-3.11-py2.py3-none-any.whl (49 kB)\n",
            "\u001b[2K     \u001b[90m━━━━━━━━━━━━━━━━━━━━━━━━━━━━━━━━━━━━━━━━\u001b[0m \u001b[32m49.6/49.6 kB\u001b[0m \u001b[31m4.6 MB/s\u001b[0m eta \u001b[36m0:00:00\u001b[0m\n",
            "\u001b[?25hInstalling collected packages: ply, pyomo\n",
            "Successfully installed ply-3.11 pyomo-6.6.2\n",
            "Collecting gurobipy\n",
            "  Downloading gurobipy-10.0.3-cp310-cp310-manylinux2014_x86_64.whl (12.7 MB)\n",
            "\u001b[2K     \u001b[90m━━━━━━━━━━━━━━━━━━━━━━━━━━━━━━━━━━━━━━━━\u001b[0m \u001b[32m12.7/12.7 MB\u001b[0m \u001b[31m28.6 MB/s\u001b[0m eta \u001b[36m0:00:00\u001b[0m\n",
            "\u001b[?25hInstalling collected packages: gurobipy\n",
            "Successfully installed gurobipy-10.0.3\n",
            "1 RangeSet Declarations\n",
            "    IDX : Dimen=1, Size=6, Bounds=(1, 6)\n",
            "        Key  : Finite : Members\n",
            "        None :   True :   [1:6]\n",
            "\n",
            "1 Var Declarations\n",
            "    x : Size=6, Index=IDX\n",
            "        Key : Lower : Value : Upper : Fixed : Stale : Domain\n",
            "          1 :     0 :   1.0 :     1 : False : False : Binary\n",
            "          2 :     0 :  -0.0 :     1 : False : False : Binary\n",
            "          3 :     0 :   1.0 :     1 : False : False : Binary\n",
            "          4 :     0 :   1.0 :     1 : False : False : Binary\n",
            "          5 :     0 :  -0.0 :     1 : False : False : Binary\n",
            "          6 :     0 :  -0.0 :     1 : False : False : Binary\n",
            "\n",
            "1 Objective Declarations\n",
            "    obj : Size=1, Index=None, Active=True\n",
            "        Key  : Active : Sense    : Expression\n",
            "        None :   True : maximize : 7*x[1] + x[2] + 10*x[3] + 7*x[4] + 0.5*x[5] + 3*x[6]\n",
            "\n",
            "1 Constraint Declarations\n",
            "    c : Size=1, Index=None, Active=True\n",
            "        Key  : Lower : Body                                                : Upper : Active\n",
            "        None :  -Inf : 4*x[1] + 2*x[2] + 3*x[3] + 5*x[4] + 0.5*x[5] + x[6] :  12.0 :   True\n",
            "\n",
            "4 Declarations: IDX x obj c\n"
          ]
        }
      ],
      "source": [
        "!pip install pyomo\n",
        "!pip install gurobipy\n",
        "#~~~~~~~~~~~~~~~~~~~~~~~~~~~MODEL~~~~~~~~~~~~~~~~~~~~~~~~~~~~~~\n",
        "# Gurobi solver for Knapsack model\n",
        "# max Sum_{i=1}^n (v_i *x_i)\n",
        "#     s.t.Sum_{i=1}^n (w_i *x_i) <= w\n",
        "#         x in {0,1}\n",
        "#~~~~~~~~~~~~~~~~~~~~~~~~~~~~~~~~~~~~~~~~~~~~~~~~~~~~~~~~~~~~\n",
        "import pyomo.environ as pyo\n",
        "from pyomo.environ import *\n",
        "import gurobipy as gb\n",
        "from pyomo.opt import SolverFactory\n",
        "#__________________________input________________________________\n",
        "model= pyo.ConcreteModel()\n",
        "\n",
        "v=[7, 1, 10, 7, .5, 3]\n",
        "w=[4,2,3,5, .5, 1]\n",
        "max_w=12\n",
        "num_i=len(v)\n",
        "\n",
        "model.IDX= pyo.RangeSet(num_i)\n",
        "\n",
        "model.x=pyo.Var(model.IDX, within= pyo.Binary)\n",
        "x=model.x\n",
        "\n",
        "#_________________objectivefunction___________________________\n",
        "\n",
        "model.obj=pyo.Objective(expr=sum(v[i-1]* x[i] for i in model.IDX), sense= pyo.maximize)\n",
        "model.c= pyo.Constraint(expr= sum(w[i-1]* x[i] for i in model.IDX) <= max_w )\n",
        "#_____________________defining Solver== Gurobi________________________\n",
        "\n",
        "solver=SolverFactory('gurobi')\n",
        "solver.solve(model)\n",
        "\n",
        "#________________output display_____________________\n",
        "model.pprint()"
      ]
    }
  ]
}