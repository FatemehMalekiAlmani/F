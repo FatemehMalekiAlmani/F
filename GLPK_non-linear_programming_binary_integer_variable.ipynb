{
  "nbformat": 4,
  "nbformat_minor": 0,
  "metadata": {
    "colab": {
      "provenance": [],
      "authorship_tag": "ABX9TyNdtKaOt1PkYsUabdmvH0/z"
    },
    "kernelspec": {
      "name": "python3",
      "display_name": "Python 3"
    },
    "language_info": {
      "name": "python"
    }
  },
  "cells": [
    {
      "cell_type": "code",
      "execution_count": 6,
      "metadata": {
        "colab": {
          "base_uri": "https://localhost:8080/"
        },
        "id": "pwALwAsTR5CO",
        "outputId": "6bfc9d11-eb28-4b8d-9665-ebf6a0ec2e32"
      },
      "outputs": [
        {
          "output_type": "stream",
          "name": "stdout",
          "text": [
            "Requirement already satisfied: pyomo in /usr/local/lib/python3.10/dist-packages (6.6.2)\n",
            "Requirement already satisfied: ply in /usr/local/lib/python3.10/dist-packages (from pyomo) (3.11)\n"
          ]
        },
        {
          "output_type": "stream",
          "name": "stderr",
          "text": [
            "WARNING:pyomo.core:Implicitly replacing the Component attribute c (type=<class 'pyomo.core.base.var.IndexedVar'>) on block unknown with a new Component (type=<class 'pyomo.core.base.constraint.AbstractScalarConstraint'>).\n",
            "This is usually indicative of a modelling error.\n",
            "To avoid this warning, use block.del_component() and block.add_component().\n"
          ]
        },
        {
          "output_type": "stream",
          "name": "stdout",
          "text": [
            "Model unknown\n",
            "\n",
            "  Variables:\n",
            "    p : Size=4, Index=p_index\n",
            "        Key : Lower : Value  : Upper : Fixed : Stale : Domain\n",
            "          1 :     0 : 1000.0 :  1000 : False : False : Integers\n",
            "          2 :     0 : 1000.0 :  1000 : False : False : Integers\n",
            "          3 :     0 :    0.0 :  1000 : False : False : Integers\n",
            "          4 :     0 : 1000.0 :  1000 : False : False : Integers\n",
            "    a : Size=1, Index=None\n",
            "        Key  : Lower : Value : Upper : Fixed : Stale : Domain\n",
            "        None :     0 :   1.0 :     1 : False : False : Binary\n",
            "\n",
            "  Objectives:\n",
            "    obj : Size=1, Index=None, Active=True\n",
            "        Key  : Active : Value\n",
            "        None :   True : 6999.99999999999\n",
            "\n",
            "  Constraints:\n",
            "    total_p : Size=1\n",
            "        Key  : Lower  : Body   : Upper\n",
            "        None : 3000.0 : 3000.0 : 3000.0\n",
            "    c1 : Size=1\n",
            "        Key  : Lower : Body : Upper\n",
            "        None :   0.0 :  0.0 :   0.0\n",
            "    c2a : Size=1\n",
            "        Key  : Lower : Body                : Upper\n",
            "        None :  None : -102999.99999999999 :   0.0\n",
            "    c2b : Size=1\n",
            "        Key  : Lower : Body               : Upper\n",
            "        None :  None : -97000.00000000001 :   0.0\n",
            "    c2c : Size=1\n",
            "        Key  : Lower : Body                  : Upper\n",
            "        None :  None : 1.000444171950221e-11 :   0.0\n",
            "    c2d : Size=1\n",
            "        Key  : Lower : Body                   : Upper\n",
            "        None :  None : -1.000444171950221e-11 :   0.0\n",
            "    c2p : Size=1\n",
            "        Key  : Lower : Body : Upper\n",
            "        None :  None :  0.0 :   0.0\n",
            "    c3 : Size=1\n",
            "        Key  : Lower : Body : Upper\n",
            "        None :   0.0 :  0.0 :   0.0\n",
            "    c : Size=1\n",
            "        Key  : Lower : Body : Upper\n",
            "        None :   0.0 :  0.0 :   0.0\n",
            "p1= 1000.0\n",
            "p2= 1000.0\n",
            "p3= 0.0\n",
            "p4= 1000.0\n",
            "ptotal= 3000.0\n",
            "\n",
            "------------------------------------------------------------\n",
            "c1= 2000.0\n",
            "c2= 2999.99999999999\n",
            "c3= 0.0\n",
            "c4= 2000.0\n",
            "ctotal= 6999.99999999999\n"
          ]
        }
      ],
      "source": [
        "!apt-get install -y -qq glpk-utils\n",
        "!pip install pyomo\n",
        "#~~~~~~~~~~~~~~~~~~~~~~~~~~~~MODEL~~~~~~~~~~~~~~~~~~~~~~~~~~~\n",
        "# GLPK solver for non-linear programming with binary and integer variable\n",
        "#    min    Sum_{k in K} c_k\n",
        "#    s.t.   Sum_{k in K} p_k=3000\n",
        "#           c1=2 * p[1]\n",
        "#           c2= a * (2* p[2] +1000)\n",
        "#           c3=7* p[3]\n",
        "#           c4= 2*p[4]\n",
        "#           0 <= p_k <= 1000\n",
        "#           set k= {1,2,3,4}\n",
        "#           p as integer\n",
        "#           a as binary\n",
        "# ~~~~~~~~~~~~~~~~~~~~~~~~~~~~~~~~~~~~~~~~~~~~~~~~~~~~~~~~~~~\n",
        "import pyomo.environ as pyo\n",
        "from pyomo.opt import SolverFactory\n",
        "from pyomo.environ import *\n",
        "\n",
        "#model\n",
        "model = pyo.ConcreteModel()\n",
        "\n",
        "#variable\n",
        "model.c=pyo.Var(range(1,5))\n",
        "model.p= pyo.Var(range(1,5) , within= Integers , bounds= (0,1000))\n",
        "model.a= pyo.Var(within= Binary)\n",
        "c= model.c\n",
        "p= model.p\n",
        "a=model.a\n",
        "M= 100000\n",
        "\n",
        "#objectivefunction\n",
        "model.obj= pyo.Objective(expr= pyo.summation(c))\n",
        "\n",
        "#constraints\n",
        "model.total_p= pyo.Constraint(expr= pyo.summation(p) == 3000)\n",
        "model.c1 = pyo.Constraint(expr=c[1] == 2 * p[1])\n",
        "\n",
        "#model.c2 = pyo.Constraint(expr=c[2] == a *(2*p[2]+ 1000))\n",
        "model.c2a= pyo.Constraint(expr= -a * M <= c[2] )\n",
        "model.c2b= pyo.Constraint(expr= c[2] <= a* M )\n",
        "model.c2c= pyo.Constraint(expr= -(1-a) * M <= c[2] - (2 * p[2]+1000) )\n",
        "model.c2d= pyo.Constraint(expr= c[2] - (2* p[2]+1000) <= (1-a)* M)\n",
        "\n",
        "model.c2p= pyo.Constraint(expr= p[2] <= a* 1000 )\n",
        "model.c3= pyo.Constraint(expr= c[3] == 7* p[3])\n",
        "model.c= pyo.Constraint(expr= c[4]== 2*p[4])\n",
        "\n",
        "#solver\n",
        "solver = SolverFactory('glpk', executable='/usr/bin/glpsol')  # مسیر اجرایی GLPK\n",
        "solver.solve(model)\n",
        "pyo.display(model)\n",
        "#________________________________results________________________________\n",
        "print('p1=', pyo.value(p[1]))\n",
        "print('p2=', pyo.value(p[2]))\n",
        "print('p3=', pyo.value(p[3]))\n",
        "print('p4=', pyo.value(p[4]))\n",
        "print('ptotal=', pyo.value(pyo.summation(p)))\n",
        "print('\\n------------------------------------------------------------')\n",
        "print('c1=', pyo.value(c[1]))\n",
        "print('c2=', pyo.value(c[2]))\n",
        "print('c3=', pyo.value(c[3]))\n",
        "print('c4=', pyo.value(c[4]))\n",
        "print('ctotal=', pyo.value(pyo.summation(c)))"
      ]
    }
  ]
}