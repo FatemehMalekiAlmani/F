{
  "nbformat": 4,
  "nbformat_minor": 0,
  "metadata": {
    "colab": {
      "provenance": [],
      "authorship_tag": "ABX9TyP3GIite4tbl+ZnCO6PM+6n",
      "include_colab_link": true
    },
    "kernelspec": {
      "name": "python3",
      "display_name": "Python 3"
    },
    "language_info": {
      "name": "python"
    }
  },
  "cells": [
    {
      "cell_type": "markdown",
      "metadata": {
        "id": "view-in-github",
        "colab_type": "text"
      },
      "source": [
        "<a href=\"https://colab.research.google.com/github/FatemehMalekiAlmani/F/blob/main/Untitled0.ipynb\" target=\"_parent\"><img src=\"https://colab.research.google.com/assets/colab-badge.svg\" alt=\"Open In Colab\"/></a>"
      ]
    },
    {
      "cell_type": "code",
      "execution_count": 5,
      "metadata": {
        "colab": {
          "base_uri": "https://localhost:8080/"
        },
        "id": "XOG_RmvZHZNU",
        "outputId": "6c3071cc-474c-4375-fb3e-ff4ab40385fd"
      },
      "outputs": [
        {
          "output_type": "stream",
          "name": "stdout",
          "text": [
            "Requirement already satisfied: pyomo in /usr/local/lib/python3.10/dist-packages (6.6.2)\n",
            "Requirement already satisfied: ply in /usr/local/lib/python3.10/dist-packages (from pyomo) (3.11)\n",
            "Requirement already satisfied: cplex in /usr/local/lib/python3.10/dist-packages (22.1.1.0)\n",
            "2 Var Declarations\n",
            "    x : Size=1, Index=None\n",
            "        Key  : Lower : Value : Upper : Fixed : Stale : Domain\n",
            "        None :     0 :   2.0 :    10 : False : False :  Reals\n",
            "    y : Size=1, Index=None\n",
            "        Key  : Lower : Value : Upper : Fixed : Stale : Domain\n",
            "        None :     0 :   6.0 :    10 : False : False :  Reals\n",
            "\n",
            "1 Objective Declarations\n",
            "    obj : Size=1, Index=None, Active=True\n",
            "        Key  : Active : Sense    : Expression\n",
            "        None :   True : maximize : x + y\n",
            "\n",
            "3 Constraint Declarations\n",
            "    c1 : Size=1, Index=None, Active=True\n",
            "        Key  : Lower : Body : Upper : Active\n",
            "        None :  -Inf :    x :   4.0 :   True\n",
            "    c2 : Size=1, Index=None, Active=True\n",
            "        Key  : Lower : Body : Upper : Active\n",
            "        None :  -Inf :  2*y :  12.0 :   True\n",
            "    c3 : Size=1, Index=None, Active=True\n",
            "        Key  : Lower : Body      : Upper : Active\n",
            "        None :  -Inf : 3*x + 2*y :  18.0 :   True\n",
            "\n",
            "6 Declarations: x y c1 c2 c3 obj\n",
            "x= 2.0\n",
            "y= 6.0\n"
          ]
        }
      ],
      "source": [
        "!pip install pyomo\n",
        "!pip install cplex\n",
        "\n",
        "import pyomo.environ as pyo\n",
        "from pyomo.environ import *\n",
        "from pyomo.opt import SolverFactory\n",
        "\n",
        "model=pyo.ConcreteModel()\n",
        "\n",
        "model.x= pyo.Var(bounds=(0,10))\n",
        "model.y= pyo.Var(bounds=(0,10))\n",
        "\n",
        "x=model.x\n",
        "y=model.y\n",
        "\n",
        "model.c1= pyo.Constraint(expr= x<=4)\n",
        "model.c2= pyo.Constraint(expr= 2*y<=12)\n",
        "model.c3= pyo.Constraint(expr= 3*x+2*y<=18)\n",
        "\n",
        "model.obj= pyo.Objective(expr= x+y, sense= maximize)\n",
        "\n",
        "solver=SolverFactory('cplex_direct')\n",
        "solver.solve(model)\n",
        "model.pprint()\n",
        "x_val=pyo.value(x)\n",
        "y_val=pyo.value(y)\n",
        "\n",
        "print('x=', x_val)\n",
        "print('y=', y_val)\n"
      ]
    }
  ]
}