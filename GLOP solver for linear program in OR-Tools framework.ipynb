{
  "nbformat": 4,
  "nbformat_minor": 0,
  "metadata": {
    "colab": {
      "provenance": [],
      "authorship_tag": "ABX9TyOm6v+HJQ3S4AOa2LCerCbu"
    },
    "kernelspec": {
      "name": "python3",
      "display_name": "Python 3"
    },
    "language_info": {
      "name": "python"
    }
  },
  "cells": [
    {
      "cell_type": "code",
      "execution_count": 3,
      "metadata": {
        "colab": {
          "base_uri": "https://localhost:8080/"
        },
        "id": "O7NaBB48P60Z",
        "outputId": "af1adf9d-b46e-4b4b-b999-be53fb869a88"
      },
      "outputs": [
        {
          "output_type": "stream",
          "name": "stdout",
          "text": [
            "Requirement already satisfied: ortools in /usr/local/lib/python3.10/dist-packages (9.7.2996)\n",
            "Requirement already satisfied: absl-py>=0.13 in /usr/local/lib/python3.10/dist-packages (from ortools) (1.4.0)\n",
            "Requirement already satisfied: numpy>=1.13.3 in /usr/local/lib/python3.10/dist-packages (from ortools) (1.23.5)\n",
            "Requirement already satisfied: protobuf>=4.23.3 in /usr/local/lib/python3.10/dist-packages (from ortools) (4.24.3)\n",
            "x= 2.0\n",
            "y= 6.0\n"
          ]
        }
      ],
      "source": [
        "!pip install ortools\n",
        "#~~~~~~~~~~~~~~~~~~~~~~~~~~~~~~~~~~~~~~~~~~~~~~\n",
        "# GLOP solver for linear program in OR-Tools framework\n",
        "#    max   x+y\n",
        "#    s.t.  x <= 4)\n",
        "#          2*y <= 12\n",
        "#          3 *x+ 2*y <= 18\n",
        "#          0<= x <= 10\n",
        "#          0<= y <= 10\n",
        "#~~~~~~~~~~~~~~~~~~~~~~~~~~~~~~~~~~~~~~~~~~~~~\n",
        "from ortools.linear_solver import pywraplp\n",
        "solver= pywraplp.Solver.CreateSolver('GLOP')\n",
        "# ____________________________variables____________________________\n",
        "x= solver.NumVar(0,10,'x')\n",
        "y= solver.NumVar(0,10,'y')\n",
        "\n",
        "#____________________________constraints____________________________\n",
        "solver.Add(x <= 4)\n",
        "solver.Add(2*y <= 12)\n",
        "solver.Add(3 *x+ 2*y <= 18)\n",
        "\n",
        "#____________________________objectivefunction____________________________\n",
        "solver.Maximize(x+y)\n",
        "\n",
        "#____________________________results____________________________\n",
        "results= solver.Solve()\n",
        "print('x=', x.solution_value())\n",
        "print('y=', y.solution_value())"
      ]
    }
  ]
}