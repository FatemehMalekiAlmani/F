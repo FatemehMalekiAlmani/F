{
  "nbformat": 4,
  "nbformat_minor": 0,
  "metadata": {
    "colab": {
      "provenance": [],
      "authorship_tag": "ABX9TyM42ISwza2vClzG/x2FOoV6",
      "include_colab_link": true
    },
    "kernelspec": {
      "name": "python3",
      "display_name": "Python 3"
    },
    "language_info": {
      "name": "python"
    }
  },
  "cells": [
    {
      "cell_type": "markdown",
      "metadata": {
        "id": "view-in-github",
        "colab_type": "text"
      },
      "source": [
        "<a href=\"https://colab.research.google.com/github/FatemehMalekiAlmani/F/blob/python/Couenne_solver_MINLP.ipynb\" target=\"_parent\"><img src=\"https://colab.research.google.com/assets/colab-badge.svg\" alt=\"Open In Colab\"/></a>"
      ]
    },
    {
      "cell_type": "code",
      "execution_count": 4,
      "metadata": {
        "colab": {
          "base_uri": "https://localhost:8080/",
          "height": 1000
        },
        "id": "PWaHKcMs25LW",
        "outputId": "c90aef55-37a0-41ad-edc0-c3751ad8ffe0"
      },
      "outputs": [
        {
          "output_type": "stream",
          "name": "stdout",
          "text": [
            "Requirement already satisfied: pyomo in /usr/local/lib/python3.10/dist-packages (6.6.2)\n",
            "Requirement already satisfied: ply in /usr/local/lib/python3.10/dist-packages (from pyomo) (3.11)\n",
            "\u001b[31mERROR: Could not find a version that satisfies the requirement couenne (from versions: none)\u001b[0m\u001b[31m\n",
            "\u001b[0m\u001b[31mERROR: No matching distribution found for couenne\u001b[0m\u001b[31m\n",
            "\u001b[0m[couenne-linux64.zip]\n",
            "  End-of-central-directory signature not found.  Either this file is not\n",
            "  a zipfile, or it constitutes one disk of a multi-part archive.  In the\n",
            "  latter case the central directory and zipfile comment will be found on\n",
            "  the last disk(s) of this archive.\n",
            "unzip:  cannot find zipfile directory in one of couenne-linux64 or\n",
            "        couenne-linux64.zip, and cannot find couenne-linux64.ZIP, period.\n"
          ]
        },
        {
          "output_type": "stream",
          "name": "stderr",
          "text": [
            "WARNING:pyomo.opt:Failed to create solver with name 'couenne':\n",
            "Failed to set executable for solver asl. File with name=/content/couenne either does not exist or it is not executable. To skip this validation, call set_executable with validate=False.\n",
            "Traceback (most recent call last):\n",
            "  File \"/usr/local/lib/python3.10/dist-packages/pyomo/opt/base/solvers.py\", line 165, in __call__\n",
            "    opt = self._cls[_implicit_solvers[mode]](**kwds)\n",
            "  File \"/usr/local/lib/python3.10/dist-packages/pyomo/solvers/plugins/solvers/ASL.py\", line 45, in __init__\n",
            "    SystemCallSolver.__init__(self, **kwds)\n",
            "  File \"/usr/local/lib/python3.10/dist-packages/pyomo/opt/solver/shellcmd.py\", line 67, in __init__\n",
            "    self.set_executable(name=executable, validate=validate)\n",
            "  File \"/usr/local/lib/python3.10/dist-packages/pyomo/opt/solver/shellcmd.py\", line 116, in set_executable\n",
            "    raise ValueError(\n",
            "ValueError: Failed to set executable for solver asl. File with name=/content/couenne either does not exist or it is not executable. To skip this validation, call set_executable with validate=False.\n"
          ]
        },
        {
          "output_type": "error",
          "ename": "RuntimeError",
          "evalue": "ignored",
          "traceback": [
            "\u001b[0;31m---------------------------------------------------------------------------\u001b[0m",
            "\u001b[0;31mRuntimeError\u001b[0m                              Traceback (most recent call last)",
            "\u001b[0;32m<ipython-input-4-336d7674cbf2>\u001b[0m in \u001b[0;36m<cell line: 25>\u001b[0;34m()\u001b[0m\n\u001b[1;32m     23\u001b[0m \u001b[0;34m\u001b[0m\u001b[0m\n\u001b[1;32m     24\u001b[0m \u001b[0msolver\u001b[0m\u001b[0;34m=\u001b[0m\u001b[0mSolverFactory\u001b[0m\u001b[0;34m(\u001b[0m\u001b[0;34m'couenne'\u001b[0m\u001b[0;34m,\u001b[0m \u001b[0mexecutable\u001b[0m\u001b[0;34m=\u001b[0m\u001b[0;34m'/content/couenne'\u001b[0m\u001b[0;34m)\u001b[0m\u001b[0;34m\u001b[0m\u001b[0;34m\u001b[0m\u001b[0m\n\u001b[0;32m---> 25\u001b[0;31m \u001b[0msolver\u001b[0m\u001b[0;34m.\u001b[0m\u001b[0msolve\u001b[0m\u001b[0;34m(\u001b[0m\u001b[0mmodel\u001b[0m\u001b[0;34m)\u001b[0m\u001b[0;34m\u001b[0m\u001b[0;34m\u001b[0m\u001b[0m\n\u001b[0m\u001b[1;32m     26\u001b[0m \u001b[0mmodel\u001b[0m\u001b[0;34m.\u001b[0m\u001b[0mpprint\u001b[0m\u001b[0;34m(\u001b[0m\u001b[0;34m)\u001b[0m\u001b[0;34m\u001b[0m\u001b[0;34m\u001b[0m\u001b[0m\n\u001b[1;32m     27\u001b[0m \u001b[0mx_val\u001b[0m\u001b[0;34m=\u001b[0m\u001b[0mvalue\u001b[0m\u001b[0;34m(\u001b[0m\u001b[0mx\u001b[0m\u001b[0;34m)\u001b[0m\u001b[0;34m\u001b[0m\u001b[0;34m\u001b[0m\u001b[0m\n",
            "\u001b[0;32m/usr/local/lib/python3.10/dist-packages/pyomo/opt/base/solvers.py\u001b[0m in \u001b[0;36msolve\u001b[0;34m(self, *args, **kwds)\u001b[0m\n\u001b[1;32m    100\u001b[0m     \u001b[0;32mdef\u001b[0m \u001b[0msolve\u001b[0m\u001b[0;34m(\u001b[0m\u001b[0mself\u001b[0m\u001b[0;34m,\u001b[0m \u001b[0;34m*\u001b[0m\u001b[0margs\u001b[0m\u001b[0;34m,\u001b[0m \u001b[0;34m**\u001b[0m\u001b[0mkwds\u001b[0m\u001b[0;34m)\u001b[0m\u001b[0;34m:\u001b[0m\u001b[0;34m\u001b[0m\u001b[0;34m\u001b[0m\u001b[0m\n\u001b[1;32m    101\u001b[0m         \u001b[0;34m\"\"\"Perform optimization and return an SolverResults object.\"\"\"\u001b[0m\u001b[0;34m\u001b[0m\u001b[0;34m\u001b[0m\u001b[0m\n\u001b[0;32m--> 102\u001b[0;31m         \u001b[0mself\u001b[0m\u001b[0;34m.\u001b[0m\u001b[0m_solver_error\u001b[0m\u001b[0;34m(\u001b[0m\u001b[0;34m'solve'\u001b[0m\u001b[0;34m)\u001b[0m\u001b[0;34m\u001b[0m\u001b[0;34m\u001b[0m\u001b[0m\n\u001b[0m\u001b[1;32m    103\u001b[0m \u001b[0;34m\u001b[0m\u001b[0m\n\u001b[1;32m    104\u001b[0m     \u001b[0;32mdef\u001b[0m \u001b[0mreset\u001b[0m\u001b[0;34m(\u001b[0m\u001b[0mself\u001b[0m\u001b[0;34m)\u001b[0m\u001b[0;34m:\u001b[0m\u001b[0;34m\u001b[0m\u001b[0;34m\u001b[0m\u001b[0m\n",
            "\u001b[0;32m/usr/local/lib/python3.10/dist-packages/pyomo/opt/base/solvers.py\u001b[0m in \u001b[0;36m_solver_error\u001b[0;34m(self, method_name)\u001b[0m\n\u001b[1;32m    117\u001b[0m \u001b[0;34m\u001b[0m\u001b[0m\n\u001b[1;32m    118\u001b[0m     \u001b[0;32mdef\u001b[0m \u001b[0m_solver_error\u001b[0m\u001b[0;34m(\u001b[0m\u001b[0mself\u001b[0m\u001b[0;34m,\u001b[0m \u001b[0mmethod_name\u001b[0m\u001b[0;34m)\u001b[0m\u001b[0;34m:\u001b[0m\u001b[0;34m\u001b[0m\u001b[0;34m\u001b[0m\u001b[0m\n\u001b[0;32m--> 119\u001b[0;31m         raise RuntimeError(\n\u001b[0m\u001b[1;32m    120\u001b[0m             \"\"\"Attempting to use an unavailable solver.\n\u001b[1;32m    121\u001b[0m \u001b[0;34m\u001b[0m\u001b[0m\n",
            "\u001b[0;31mRuntimeError\u001b[0m: Attempting to use an unavailable solver.\n\nThe SolverFactory was unable to create the solver \"couenne\"\nand returned an UnknownSolver object.  This error is raised at the point\nwhere the UnknownSolver object was used as if it were valid (by calling\nmethod \"solve\").\n\nThe original solver was created with the following parameters:\n\texecutable: /content/couenne\n\ttype: couenne\n\t_args: ()\n\toptions: {}"
          ]
        }
      ],
      "source": [
        "!pip install pyomo\n",
        "from pyomo.environ import *\n",
        "import matplotlib.pyplot as plt\n",
        "!pip install couenne\n",
        "#!wget -N -q \"https://ampl.com/dl/open/couenne/couenne-linux64.zip\"\n",
        "#!unzip -o -q couenne-linux64\n",
        "\n",
        "#from pyomo.opt import SolverFactory\n",
        "\n",
        "model=ConcreteModel()\n",
        "\n",
        "model.x= Var(within= Integers , bounds=(0,10))\n",
        "model.y= Var(bounds=(0,10))\n",
        "\n",
        "x=model.x\n",
        "y=model.y\n",
        "\n",
        "model.c1= Constraint(expr= x<=4)\n",
        "model.c2= Constraint(expr= 2*y<=12)\n",
        "model.c3= Constraint(expr= 3*x+2*y<=18)\n",
        "\n",
        "model.obj= Objective(expr= 3*x + 5*x*y, sense= maximize)\n",
        "\n",
        "solver=SolverFactory('couenne', executable='/content/couenne')\n",
        "solver.solve(model)\n",
        "model.pprint()\n",
        "x_val=value(x)\n",
        "y_val=value(y)\n",
        "\n",
        "print('\\n------------------------------------------------------------')\n",
        "\n",
        "print('x=', x_val)\n",
        "print('y=', y_val)\n"
      ]
    }
  ]
}