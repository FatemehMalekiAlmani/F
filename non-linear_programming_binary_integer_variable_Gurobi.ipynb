{
  "nbformat": 4,
  "nbformat_minor": 0,
  "metadata": {
    "colab": {
      "provenance": [],
      "authorship_tag": "ABX9TyPeDdtuiA2kRmgmHLlNuW4n"
    },
    "kernelspec": {
      "name": "python3",
      "display_name": "Python 3"
    },
    "language_info": {
      "name": "python"
    }
  },
  "cells": [
    {
      "cell_type": "code",
      "execution_count": 3,
      "metadata": {
        "colab": {
          "base_uri": "https://localhost:8080/"
        },
        "id": "9HIMWqJOW7I-",
        "outputId": "8b70fb66-1ad2-400e-e091-bd7f818582e7"
      },
      "outputs": [
        {
          "output_type": "stream",
          "name": "stdout",
          "text": [
            "Requirement already satisfied: pyomo in /usr/local/lib/python3.10/dist-packages (6.6.2)\n",
            "Requirement already satisfied: ply in /usr/local/lib/python3.10/dist-packages (from pyomo) (3.11)\n",
            "Requirement already satisfied: gurobipy in /usr/local/lib/python3.10/dist-packages (10.0.3)\n"
          ]
        },
        {
          "output_type": "stream",
          "name": "stderr",
          "text": [
            "WARNING:pyomo.core:Implicitly replacing the Component attribute c (type=<class 'pyomo.core.base.var.IndexedVar'>) on block unknown with a new Component (type=<class 'pyomo.core.base.constraint.AbstractScalarConstraint'>).\n",
            "This is usually indicative of a modelling error.\n",
            "To avoid this warning, use block.del_component() and block.add_component().\n"
          ]
        },
        {
          "output_type": "stream",
          "name": "stdout",
          "text": [
            "2 Set Declarations\n",
            "    c_index : Size=1, Index=None, Ordered=Insertion\n",
            "        Key  : Dimen : Domain : Size : Members\n",
            "        None :     1 :    Any :    4 : {1, 2, 3, 4}\n",
            "    p_index : Size=1, Index=None, Ordered=Insertion\n",
            "        Key  : Dimen : Domain : Size : Members\n",
            "        None :     1 :    Any :    4 : {1, 2, 3, 4}\n",
            "\n",
            "2 Var Declarations\n",
            "    a : Size=1, Index=None\n",
            "        Key  : Lower : Value : Upper : Fixed : Stale : Domain\n",
            "        None :     0 :   1.0 :     1 : False : False : Binary\n",
            "    p : Size=4, Index=p_index\n",
            "        Key : Lower : Value  : Upper : Fixed : Stale : Domain\n",
            "          1 :     0 : 1000.0 :  1000 : False : False : Integers\n",
            "          2 :     0 : 1000.0 :  1000 : False : False : Integers\n",
            "          3 :     0 :    0.0 :  1000 : False : False : Integers\n",
            "          4 :     0 : 1000.0 :  1000 : False : False : Integers\n",
            "\n",
            "1 Objective Declarations\n",
            "    obj : Size=1, Index=None, Active=True\n",
            "        Key  : Active : Sense    : Expression\n",
            "        None :   True : minimize : c[1] + c[2] + c[3] + c[4]\n",
            "\n",
            "6 Constraint Declarations\n",
            "    c : Size=1, Index=None, Active=True\n",
            "        Key  : Lower : Body          : Upper : Active\n",
            "        None :   0.0 : c[4] - 2*p[4] :   0.0 :   True\n",
            "    c1 : Size=1, Index=None, Active=True\n",
            "        Key  : Lower : Body          : Upper : Active\n",
            "        None :   0.0 : c[1] - 2*p[1] :   0.0 :   True\n",
            "    c2 : Size=1, Index=None, Active=True\n",
            "        Key  : Lower : Body                     : Upper : Active\n",
            "        None :   0.0 : c[2] - a*(2*p[2] + 1000) :   0.0 :   True\n",
            "    c2p : Size=1, Index=None, Active=True\n",
            "        Key  : Lower : Body          : Upper : Active\n",
            "        None :  -Inf : p[2] - 1000*a :   0.0 :   True\n",
            "    c3 : Size=1, Index=None, Active=True\n",
            "        Key  : Lower : Body          : Upper : Active\n",
            "        None :   0.0 : c[3] - 7*p[3] :   0.0 :   True\n",
            "    total_p : Size=1, Index=None, Active=True\n",
            "        Key  : Lower  : Body                      : Upper  : Active\n",
            "        None : 3000.0 : p[1] + p[2] + p[3] + p[4] : 3000.0 :   True\n",
            "\n",
            "11 Declarations: c_index p_index p a obj total_p c1 c2 c2p c3 c\n",
            "p1= 1000.0\n",
            "p2= 1000.0\n",
            "p3= 0.0\n",
            "p4= 1000.0\n",
            "ptotal= 3000.0\n",
            "\n",
            "------------------------------------------------------------\n",
            "c1= 2000.0\n",
            "c2= 3000.0\n",
            "c3= 0.0\n",
            "c4= 2000.0\n",
            "ctotal= 7000.0\n"
          ]
        }
      ],
      "source": [
        "!pip install pyomo\n",
        "!pip install gurobipy\n",
        "#~~~~~~~~~~~~~~~~~~~~~~~~~~~~MODEL~~~~~~~~~~~~~~~~~~~~~~~~~~~\n",
        "# Gurobi solver for non-linear programming with binary and integer variable\n",
        "#    min    Sum_{k in K} c_k\n",
        "#    s.t.   Sum_{k in K} p_k=3000\n",
        "#           c1=2 * p[1]\n",
        "#           c2= a * (2* p[2] +1000)\n",
        "#           c3=7* p[3]\n",
        "#           c4= 2*p[4]\n",
        "#           0 <= p_k <= 1000\n",
        "#           set k= {1,2,3,4}\n",
        "#           p as integer\n",
        "#           a as binary\n",
        "# ~~~~~~~~~~~~~~~~~~~~~~~~~~~~~~~~~~~~~~~~~~~~~~~~~~~~~~~~~~~\n",
        "import pyomo.environ as pyo\n",
        "from pyomo.environ import *\n",
        "import gurobipy as gb\n",
        "from pyomo.opt import SolverFactory\n",
        "#________________________________model________________________________\n",
        "model = pyo.ConcreteModel()\n",
        "#________________________________variable________________________________\n",
        "model.c=pyo.Var(range(1,5))\n",
        "model.p= pyo.Var(range(1,5) , within= Integers , bounds= (0,1000))\n",
        "model.a= pyo.Var(within= Binary)\n",
        "c= model.c\n",
        "p= model.p\n",
        "a=model.a\n",
        "#________________________________objectivefunction________________________________\n",
        "model.obj= pyo.Objective(expr= pyo.summation(c))\n",
        "#________________________________constraints________________________________\n",
        "model.total_p= pyo.Constraint(expr= pyo.summation(p) == 3000)\n",
        "model.c1 = pyo.Constraint(expr=c[1] == 2 * p[1])\n",
        "model.c2 = pyo.Constraint(expr=c[2] == a *(2*p[2]+ 1000))\n",
        "model.c2p= pyo.Constraint(expr= p[2] <= a* 1000 )\n",
        "model.c3= pyo.Constraint(expr= c[3] == 7* p[3])\n",
        "model.c= pyo.Constraint(expr= c[4]== 2*p[4])\n",
        "#________________________________solver________________________________\n",
        "solver=SolverFactory('gurobi')\n",
        "solver.solve(model)\n",
        "model.pprint()\n",
        "#________________________________results________________________________\n",
        "print('p1=', pyo.value(p[1]))\n",
        "print('p2=', pyo.value(p[2]))\n",
        "print('p3=', pyo.value(p[3]))\n",
        "print('p4=', pyo.value(p[4]))\n",
        "print('ptotal=', pyo.value(pyo.summation(p)))\n",
        "print('\\n------------------------------------------------------------')\n",
        "print('c1=', pyo.value(c[1]))\n",
        "print('c2=', pyo.value(c[2]))\n",
        "print('c3=', pyo.value(c[3]))\n",
        "print('c4=', pyo.value(c[4]))\n",
        "print('ctotal=', pyo.value(pyo.summation(c)))"
      ]
    }
  ]
}