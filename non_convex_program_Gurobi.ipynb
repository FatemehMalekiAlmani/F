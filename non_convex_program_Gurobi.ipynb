{
  "nbformat": 4,
  "nbformat_minor": 0,
  "metadata": {
    "colab": {
      "provenance": [],
      "authorship_tag": "ABX9TyPDPTocmhzNa3ezJqFX1s8J"
    },
    "kernelspec": {
      "name": "python3",
      "display_name": "Python 3"
    },
    "language_info": {
      "name": "python"
    }
  },
  "cells": [
    {
      "cell_type": "code",
      "execution_count": 9,
      "metadata": {
        "colab": {
          "base_uri": "https://localhost:8080/"
        },
        "id": "uGbQUnnA4QLi",
        "outputId": "6df497e9-2e89-47e0-f21e-7b34257e05a9"
      },
      "outputs": [
        {
          "output_type": "stream",
          "name": "stdout",
          "text": [
            "Requirement already satisfied: pyomo in /usr/local/lib/python3.10/dist-packages (6.6.2)\n",
            "Requirement already satisfied: ply in /usr/local/lib/python3.10/dist-packages (from pyomo) (3.11)\n",
            "Requirement already satisfied: gurobipy in /usr/local/lib/python3.10/dist-packages (10.0.3)\n",
            "p1= 0.0\n",
            "p2= 1000.0\n",
            "p3= 1000.0\n",
            "p4= 1000.0\n",
            "\n",
            "------------------------------------------------------------\n",
            "c1= 0.0\n",
            "c2= 0.0\n",
            "c3= 0.0\n",
            "c4= 2000.0\n",
            "\n",
            "------------------------------------------------------------\n",
            "c_total= 2000.0\n"
          ]
        }
      ],
      "source": [
        "!pip install pyomo\n",
        "!pip install gurobipy\n",
        "#~~~~~~~~~~~~~~~~~~~~~~~~~~~~MODEL~~~~~~~~~~~~~~~~~~~~~~~~~~~\n",
        "# Gurobi solver for non-convex program\n",
        "#    min    Sum_{k in K} c_k\n",
        "#    s.t.   Sum_{k in K} p_k=3000\n",
        "#           c1=.1 * p[1]^2 + 2*p[1]\n",
        "#           c2= p[2] * p[1]\n",
        "#           c3=7* p[3] * p[1]\n",
        "#           c4= 2*p[4]\n",
        "#           0 <= p_k <= 1000\n",
        "#           set k= {1,2,3,4}\n",
        "#           p as integer\n",
        "# ~~~~~~~~~~~~~~~~~~~~~~~~~~~~~~~~~~~~~~~~~~~~~~~~~~~~~~~~~~~\n",
        "import pyomo.environ as pyo\n",
        "from pyomo.environ import *\n",
        "import gurobipy as gb\n",
        "from pyomo.opt import SolverFactory\n",
        "#________________________________model________________________________\n",
        "model= pyo.ConcreteModel()\n",
        "#________________________________variable________________________________\n",
        "model.c= pyo.Var(range(1,5))\n",
        "model.p= pyo.Var(range(1,5), within= pyo.Integers, bounds= (0, 1000))\n",
        "c= model.c\n",
        "p= model.p\n",
        "#________________________________objectivefunction______________________________\n",
        "model.obj=pyo.Objective(expr= pyo.summation(c))\n",
        "#________________________________constraint________________________________\n",
        "model.total_p= pyo.Constraint(expr= pyo.summation(p)== 3000)\n",
        "model.c1= pyo.Constraint(expr= c[1] == .1 * p[1]* p[1]+2*p[1] )\n",
        "model.c2= pyo.Constraint(expr= c[2] ==  p[2] * p[1] )\n",
        "model.c3= pyo.Constraint(expr= c[3] == 7 * p[3] * p[1] )\n",
        "model.c4= pyo.Constraint(expr= c[4] == 2 * p[4] )\n",
        "#________________________________solver________________________________\n",
        "solver=SolverFactory('gurobi')\n",
        "solver.options['NonConvex']=2\n",
        "solver.solve(model)\n",
        "#________________________________results________________________________\n",
        "print('p1=', pyo.value(p[1]))\n",
        "print('p2=', pyo.value(p[2]))\n",
        "print('p3=', pyo.value(p[3]))\n",
        "print('p4=', pyo.value(p[4]))\n",
        "print('\\n------------------------------------------------------------')\n",
        "print('c1=', pyo.value(c[1]))\n",
        "print('c2=', pyo.value(c[2]))\n",
        "print('c3=', pyo.value(c[3]))\n",
        "print('c4=', pyo.value(c[4]))\n",
        "print('\\n------------------------------------------------------------')\n",
        "print('c_total=', pyo.value(pyo.summation(c)))"
      ]
    }
  ]
}