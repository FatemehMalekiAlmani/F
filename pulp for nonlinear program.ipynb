{
  "nbformat": 4,
  "nbformat_minor": 0,
  "metadata": {
    "colab": {
      "provenance": [],
      "authorship_tag": "ABX9TyNQ6reKhMQacZ1nUTvkLQ6V"
    },
    "kernelspec": {
      "name": "python3",
      "display_name": "Python 3"
    },
    "language_info": {
      "name": "python"
    }
  },
  "cells": [
    {
      "cell_type": "code",
      "execution_count": 4,
      "metadata": {
        "colab": {
          "base_uri": "https://localhost:8080/"
        },
        "id": "ufblY-6ZmWrW",
        "outputId": "bd064086-661e-4855-bb9d-e4e9bc250372"
      },
      "outputs": [
        {
          "output_type": "stream",
          "name": "stdout",
          "text": [
            "Requirement already satisfied: pulp in /usr/local/lib/python3.10/dist-packages (2.7.0)\n",
            "x= 2.0\n",
            "y= 6.0\n"
          ]
        }
      ],
      "source": [
        "#~~~~~~~~~~~~~~~~~~~~~~~~~~~~~~~~~~~~~~~~~~~~~~\n",
        "# pulp for nonlinear program\n",
        "#    max   3x + 5xy\n",
        "#    s.t.  x <= 4\n",
        "#          2*y <= 12\n",
        "#          3 *x+ 2*y <= 18\n",
        "#          0<= x <= 10\n",
        "#          0<= y <= 10\n",
        "#~~~~~~~~~~~~~~~~~~~~~~~~~~~~~~~~~~~~~~~~~~~~~\n",
        "!pip install pulp\n",
        "import pulp as pl\n",
        "#__________________model______________________\n",
        "model= pl.LpProblem('ex' , pl.LpMaximize)\n",
        "#______________________variable______________________\n",
        "x = pl.LpVariable('x' , 0 , 10)\n",
        "y = pl.LpVariable('y' , 0 , 10)\n",
        "#______________________constraints______________________\n",
        "model += x <= 4\n",
        "model += 2*y <= 12\n",
        "model += 3*x +2*y <= 18\n",
        "\n",
        "#______________________objective function______________________\n",
        "model += x+y\n",
        "solver= model.solve()\n",
        "#______________________give optimization value______________________\n",
        "x_val = pl.value(x)\n",
        "y_val = pl.value(y)\n",
        "#______________________results______________________\n",
        "print('x=', x_val)\n",
        "print('y=', y_val)"
      ]
    }
  ]
}