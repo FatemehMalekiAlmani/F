{
  "nbformat": 4,
  "nbformat_minor": 0,
  "metadata": {
    "colab": {
      "provenance": [],
      "authorship_tag": "ABX9TyMqs9IBLUK18QcSBw5FQ9Em"
    },
    "kernelspec": {
      "name": "python3",
      "display_name": "Python 3"
    },
    "language_info": {
      "name": "python"
    }
  },
  "cells": [
    {
      "cell_type": "code",
      "execution_count": 16,
      "metadata": {
        "colab": {
          "base_uri": "https://localhost:8080/"
        },
        "id": "FNDho8bISdsI",
        "outputId": "5cd90176-fe30-4a98-c429-1d892a1092c8"
      },
      "outputs": [
        {
          "output_type": "stream",
          "name": "stdout",
          "text": [
            "Requirement already satisfied: pyomo in /usr/local/lib/python3.10/dist-packages (6.6.2)\n",
            "Requirement already satisfied: ply in /usr/local/lib/python3.10/dist-packages (from pyomo) (3.11)\n",
            "2 Var Declarations\n",
            "    x : Size=1, Index=None\n",
            "        Key  : Lower : Value             : Upper : Fixed : Stale : Domain\n",
            "        None :     0 : 4.000000039165028 :    10 : False : False :  Reals\n",
            "    y : Size=1, Index=None\n",
            "        Key  : Lower : Value              : Upper : Fixed : Stale : Domain\n",
            "        None :     0 : 1.5000000001877993 :    10 : False : False :  Reals\n",
            "\n",
            "1 Objective Declarations\n",
            "    obj : Size=1, Index=None, Active=True\n",
            "        Key  : Active : Sense    : Expression\n",
            "        None :   True : maximize : 3*x + 5*x*y\n",
            "\n",
            "3 Constraint Declarations\n",
            "    c1 : Size=1, Index=None, Active=True\n",
            "        Key  : Lower : Body : Upper : Active\n",
            "        None :  -Inf :    x :   4.0 :   True\n",
            "    c2 : Size=1, Index=None, Active=True\n",
            "        Key  : Lower : Body  : Upper : Active\n",
            "        None :  -Inf : 2*x*y :  12.0 :   True\n",
            "    c3 : Size=1, Index=None, Active=True\n",
            "        Key  : Lower : Body      : Upper : Active\n",
            "        None :  -Inf : 3*x + 2*y :  18.0 :   True\n",
            "\n",
            "6 Declarations: x y c1 c2 c3 obj\n",
            "\n",
            "===================================\n",
            "x= 4.000000039165028\n",
            "y= 1.5000000001877993\n"
          ]
        }
      ],
      "source": [
        "# Using IPOPT solver for nonlinear models\n",
        "!pip install pyomo\n",
        "from pyomo.environ import *\n",
        "import matplotlib.pyplot as plt\n",
        "!wget -N -q \"https://matematica.unipv.it/gualandi/solvers/ipopt-linux64.zip\"\n",
        "!unzip -o -q ipopt-linux64\n",
        "\n",
        "model = pyo.ConcreteModel()\n",
        "\n",
        "model.x = pyo.Var(bounds=(0, 10))\n",
        "model.y = pyo.Var(bounds=(0, 10))\n",
        "x = model.x\n",
        "y = model.y\n",
        "\n",
        "model.c1 = pyo.Constraint(expr=x <= 4)\n",
        "model.c2 = pyo.Constraint(expr=2 * x * y <= 12)\n",
        "model.c3 = pyo.Constraint(expr=3 * x + 2 * y <= 18)\n",
        "\n",
        "model.obj = pyo.Objective(expr=3 * x + 5 * x * y, sense=maximize)\n",
        "\n",
        "opt=SolverFactory('ipopt', executable='/content/ipopt')\n",
        "opt.solve(model)\n",
        "\n",
        "model.pprint()\n",
        "\n",
        "x_value = pyo.value(x)\n",
        "y_value = pyo.value(y)\n",
        "\n",
        "print('\\n===================================')\n",
        "print('x=', x_value)\n",
        "print('y=', y_value)"
      ]
    }
  ]
}